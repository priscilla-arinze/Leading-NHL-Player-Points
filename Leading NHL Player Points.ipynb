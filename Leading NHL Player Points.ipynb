{
 "cells": [
  {
   "cell_type": "markdown",
   "metadata": {},
   "source": [
    "# Project - Leading NHL Player Points"
   ]
  },
  {
   "cell_type": "markdown",
   "metadata": {},
   "source": [
    "## Objective: Given user input for team name abbreviation & season, show the top 3 NHL players that scored the most points for that given team & season \n",
    "\n",
    "(Stats source example: [Covers.com, 2021-2022 season](https://www.covers.com/sport/hockey/nhl/players/statistics/points/2021-2022))\n",
    "\n",
    "\n",
    "__NOTE__: Covers.com stats does not include ALL of the teams for player stats (only displays top 50 players across the entire league), so, *for now*, this project will only focus on the teams that are currently listed on the stats page for the user-inputted season"
   ]
  },
  {
   "cell_type": "markdown",
   "metadata": {},
   "source": [
    "*Inspired by PythonReview\\EXERCISES\\Exercise - Regular Expressions & Web Crawler (2022 NHL Statistics)*"
   ]
  },
  {
   "cell_type": "markdown",
   "metadata": {},
   "source": [
    "<hr>"
   ]
  },
  {
   "cell_type": "markdown",
   "metadata": {},
   "source": [
    "Also Covers.com will automatically default to the Playoffs section on page reload, this project is showing information from the Regular Season:"
   ]
  },
  {
   "cell_type": "code",
   "execution_count": 1,
   "metadata": {},
   "outputs": [
    {
     "data": {
      "image/png": "[encoded data removed]",
      "text/plain": [
       "<IPython.core.display.Image object>"
      ]
     },
     "execution_count": 1,
     "metadata": {},
     "output_type": "execute_result"
    }
   ],
   "source": [
    "from IPython.display import Image\n",
    "from IPython.core.display import HTML \n",
    "Image(filename=\"RESOURCES/regular-season-vs-playoffs.png\")"
   ]
  },
  {
   "cell_type": "markdown",
   "metadata": {},
   "source": [
    "### To-Do List:\n",
    "* Allow varied user input (e.g. \"ranger\", \"arizona\", etc.) + use list of team name abbreviations & regex to determine which team the user is referring to\n",
    "\n",
    "* Data Validation:\n",
    "    * Add condition to check if table of data is null or not (e.g. if the season hasn't started yet)\n",
    "    * User input for season\n",
    "    * Case-sensitive for team abbreviation?\n",
    "\n",
    "<br>\n",
    "\n",
    "* *Based on above, update functions to be applicable for ALL NHL teams* --> __KINDA DONE__: only accounts for the teams that appear on the Covers.com stats page, need to do more research for stats for ALL teams\n",
    "\n",
    "* ~~Update standard setup for BeatifulSoup to allow dynamic URL season by season changes (may also need to include in user input)~~ --> __DONE: `get_nhl_season()` function__\n",
    "\n",
    "* Once everything is functional, consider adding it to website portfolio (scrape for more details/image of players based on player last name & team)"
   ]
  },
  {
   "cell_type": "code",
   "execution_count": 2,
   "metadata": {},
   "outputs": [],
   "source": [
    "import requests # one of the ways to connect to websites via Python\n",
    "from bs4 import BeautifulSoup # allows you to go through page source and get data\n",
    "import re # regular expressions library"
   ]
  },
  {
   "cell_type": "markdown",
   "metadata": {},
   "source": [
    "### GET SEASON FROM USER:\n",
    "\n",
    "NOTE: Functional, but definitely need to do data validation to account for dumb user input"
   ]
  },
  {
   "cell_type": "code",
   "execution_count": 24,
   "metadata": {},
   "outputs": [],
   "source": [
    "def get_nhl_season():\n",
    "    season = input(\"Enter the season in YYYY-YYYY format:\")\n",
    "\n",
    "    return season"
   ]
  },
  {
   "cell_type": "code",
   "execution_count": 25,
   "metadata": {},
   "outputs": [],
   "source": [
    "## outside of function scope so it can be used in multiple functions\n",
    "season = get_nhl_season()"
   ]
  },
  {
   "cell_type": "markdown",
   "metadata": {},
   "source": [
    "### BEAUTIFULSOUP SETUP:"
   ]
  },
  {
   "cell_type": "code",
   "execution_count": 26,
   "metadata": {},
   "outputs": [],
   "source": [
    "###### STANDARD SETUP FOR BEATUIFULSOUP ######\n",
    "url = \"https://www.covers.com/sport/hockey/nhl/players/statistics/points/\"+season\n",
    "\n",
    "# GET request; stores page HTML source in variable\n",
    "source_code = requests.get(url) \n",
    "\n",
    "# gets the front end text of the HTMl source code; ignoring back end stuff; essentally parses through HTML source\n",
    "plain_text = source_code.text \n",
    "\n",
    "# can sort through this variable\n",
    "soup = BeautifulSoup(plain_text) \n",
    "\n",
    "\n",
    "###### ACCESS TABLE & GET TABLE HEADERS/ROWS ######\n",
    "table = soup.find(\"table\", attrs={\"id\":\"RegularSeason\"})\n",
    "table_headers = table.thead.find_all(\"th\") # find all th's within table's thead section\n",
    "table_rows = table.tbody.find_all(\"tr\") # find all tr's within table's tbody section"
   ]
  },
  {
   "cell_type": "markdown",
   "metadata": {},
   "source": [
    "### __GET DATA__ -- GET PLAYER STATS FOR USER-INPUTTED SEASON:"
   ]
  },
  {
   "cell_type": "code",
   "execution_count": 27,
   "metadata": {},
   "outputs": [],
   "source": [
    "def get_nhl_stats():\n",
    "    \n",
    "    ###### CREATE LIST OF HEADERS ######\n",
    "    list_of_headings = []\n",
    "\n",
    "    for headers in table_headers:\n",
    "        # remove any newlines and extra spaces from left and right \n",
    "        list_of_headings.append(headers.text.replace('\\n', ' ').strip())\n",
    "        \n",
    "    #print(list_of_headings)  #['# Player', 'Team', 'POS', 'GP', '+/-', 'SOG', 'PPG', 'SHG', 'G', 'A', 'P']\n",
    "\n",
    "\n",
    "\n",
    "\n",
    "    ###### CREATE LIST OF TABLE ROW DATA & COMBINE W/ HEADERS TO MAKE DICTIONARY ######\n",
    "    # list of multiple dictionaries\n",
    "    table_data = []\n",
    "\n",
    "    for rows in table_rows: \n",
    "\n",
    "        # each row is stored as dictionary consisting of the data\n",
    "        # EXAMPLE: rows = {'# Player': '', 'Team': '', 'POS': '', ...}\n",
    "        rows_dict = {}\n",
    "\n",
    "        # zip() allows you to combine two pieces of data & iterate over them as a tuple\n",
    "        for td, header in zip(rows.find_all(\"td\"), list_of_headings): \n",
    "            # to fix issue where number before player's name didn't have a space between the number & name\n",
    "            if header == '# Player': \n",
    "                rows_dict[header] = td.text.replace('\\n', ' ').rstrip().lstrip()\n",
    "            else:\n",
    "                rows_dict[header] = td.text.replace('\\n', '').strip()\n",
    "\n",
    "        table_data.append(rows_dict)\n",
    "\n",
    "\n",
    "\n",
    "\n",
    "    return table_data\n"
   ]
  },
  {
   "cell_type": "code",
   "execution_count": 28,
   "metadata": {},
   "outputs": [
    {
     "name": "stdout",
     "output_type": "stream",
     "text": [
      "{'# Player': '1 N. Kucherov', 'Team': 'TB', 'POS': 'RW', 'GP': '82', '+/-': '24', 'SOG': '246', 'PPG': '15', 'SHG': '0', 'G': '41', 'A': '87', 'P': '128'}\n",
      "{'# Player': '2 C. McDavid', 'Team': 'EDM', 'POS': 'C', 'GP': '78', '+/-': '3', 'SOG': '240', 'PPG': '9', 'SHG': '1', 'G': '41', 'A': '75', 'P': '116'}\n",
      "{'# Player': '3 P. Kane', 'Team': 'CHI', 'POS': 'RW', 'GP': '81', '+/-': '2', 'SOG': '341', 'PPG': '9', 'SHG': '0', 'G': '44', 'A': '66', 'P': '110'}\n",
      "{'# Player': '4 L. Draisaitl', 'Team': 'EDM', 'POS': 'C', 'GP': '82', '+/-': '2', 'SOG': '231', 'PPG': '16', 'SHG': '3', 'G': '50', 'A': '55', 'P': '105'}\n",
      "{'# Player': '5 B. Marchand', 'Team': 'BOS', 'POS': 'LW', 'GP': '79', '+/-': '15', 'SOG': '231', 'PPG': '10', 'SHG': '3', 'G': '36', 'A': '64', 'P': '100'}\n",
      "{'# Player': '6 S. Crosby', 'Team': 'PIT', 'POS': 'C', 'GP': '79', '+/-': '18', 'SOG': '220', 'PPG': '12', 'SHG': '0', 'G': '35', 'A': '65', 'P': '100'}\n",
      "{'# Player': '7 N. MacKinnon', 'Team': 'COL', 'POS': 'C', 'GP': '82', '+/-': '20', 'SOG': '365', 'PPG': '12', 'SHG': '0', 'G': '41', 'A': '58', 'P': '99'}\n",
      "{'# Player': '8 J. Gaudreau', 'Team': 'CAL', 'POS': 'LW', 'GP': '82', '+/-': '18', 'SOG': '245', 'PPG': '6', 'SHG': '0', 'G': '36', 'A': '63', 'P': '99'}\n",
      "{'# Player': '9 S. Stamkos', 'Team': 'TB', 'POS': 'C', 'GP': '82', '+/-': '4', 'SOG': '234', 'PPG': '19', 'SHG': '2', 'G': '45', 'A': '53', 'P': '98'}\n",
      "{'# Player': '10 A. Barkov', 'Team': 'FLA', 'POS': 'C', 'GP': '82', '+/-': '-3', 'SOG': '206', 'PPG': '13', 'SHG': '0', 'G': '35', 'A': '61', 'P': '96'}\n",
      "{'# Player': '11 M. Marner', 'Team': 'TOR', 'POS': 'RW', 'GP': '82', '+/-': '22', 'SOG': '233', 'PPG': '3', 'SHG': '1', 'G': '26', 'A': '68', 'P': '94'}\n",
      "{'# Player': '12 J. Huberdeau', 'Team': 'FLA', 'POS': 'LW', 'GP': '82', '+/-': '-14', 'SOG': '226', 'PPG': '11', 'SHG': '0', 'G': '30', 'A': '62', 'P': '92'}\n",
      "{'# Player': '13 B. Point', 'Team': 'TB', 'POS': 'C', 'GP': '79', '+/-': '27', 'SOG': '191', 'PPG': '20', 'SHG': '0', 'G': '41', 'A': '51', 'P': '92'}\n",
      "{'# Player': '14 B. Wheeler', 'Team': 'WIN', 'POS': 'RW', 'GP': '82', '+/-': '0', 'SOG': '231', 'PPG': '2', 'SHG': '2', 'G': '20', 'A': '71', 'P': '91'}\n",
      "{'# Player': '15 A. Ovechkin', 'Team': 'WAS', 'POS': 'LW', 'GP': '81', '+/-': '7', 'SOG': '338', 'PPG': '18', 'SHG': '0', 'G': '51', 'A': '38', 'P': '89'}\n",
      "{'# Player': '16 J. Tavares', 'Team': 'TOR', 'POS': 'C', 'GP': '82', '+/-': '19', 'SOG': '286', 'PPG': '10', 'SHG': '0', 'G': '47', 'A': '41', 'P': '88'}\n",
      "{'# Player': '17 A. Panarin', 'Team': 'CLB', 'POS': 'LW', 'GP': '79', '+/-': '14', 'SOG': '191', 'PPG': '6', 'SHG': '0', 'G': '28', 'A': '59', 'P': '87'}\n",
      "{'# Player': '18 M. Rantanen', 'Team': 'COL', 'POS': 'RW', 'GP': '74', '+/-': '13', 'SOG': '193', 'PPG': '16', 'SHG': '0', 'G': '31', 'A': '56', 'P': '87'}\n",
      "{'# Player': '19 C. Giroux', 'Team': 'PHI', 'POS': 'C', 'GP': '82', '+/-': '9', 'SOG': '229', 'PPG': '2', 'SHG': '1', 'G': '22', 'A': '63', 'P': '85'}\n",
      "{'# Player': '20 M. Scheifele', 'Team': 'WIN', 'POS': 'C', 'GP': '82', '+/-': '8', 'SOG': '199', 'PPG': '12', 'SHG': '0', 'G': '38', 'A': '46', 'P': '84'}\n",
      "{'# Player': '21 S. Aho', 'Team': 'CAR', 'POS': 'RW', 'GP': '82', '+/-': '25', 'SOG': '243', 'PPG': '3', 'SHG': '4', 'G': '30', 'A': '53', 'P': '83'}\n",
      "{'# Player': '22 B. Burns', 'Team': 'SJ', 'POS': 'D', 'GP': '82', '+/-': '13', 'SOG': '300', 'PPG': '7', 'SHG': '1', 'G': '16', 'A': '67', 'P': '83'}\n",
      "{'# Player': '23 S. Monahan', 'Team': 'CAL', 'POS': 'C', 'GP': '78', '+/-': '7', 'SOG': '211', 'PPG': '12', 'SHG': '0', 'G': '34', 'A': '48', 'P': '82'}\n",
      "{'# Player': '24 P. Kessel', 'Team': 'PIT', 'POS': 'RW', 'GP': '82', '+/-': '-19', 'SOG': '215', 'PPG': '12', 'SHG': '0', 'G': '27', 'A': '55', 'P': '82'}\n",
      "{'# Player': '25 J. Eichel', 'Team': 'BUF', 'POS': 'C', 'GP': '77', '+/-': '-11', 'SOG': '303', 'PPG': '8', 'SHG': '0', 'G': '28', 'A': '54', 'P': '82'}\n",
      "{'# Player': '26 J. Toews', 'Team': 'CHI', 'POS': 'C', 'GP': '82', '+/-': '2', 'SOG': '235', 'PPG': '9', 'SHG': '1', 'G': '35', 'A': '46', 'P': '81'}\n",
      "{'# Player': '27 D. Pastrnak', 'Team': 'BOS', 'POS': 'RW', 'GP': '66', '+/-': '6', 'SOG': '235', 'PPG': '17', 'SHG': '0', 'G': '38', 'A': '43', 'P': '81'}\n",
      "{'# Player': '28 T. Seguin', 'Team': 'DAL', 'POS': 'C', 'GP': '82', '+/-': '17', 'SOG': '334', 'PPG': '9', 'SHG': '0', 'G': '33', 'A': '47', 'P': '80'}\n",
      "{'# Player': '29 P. Bergeron', 'Team': 'BOS', 'POS': 'C', 'GP': '65', '+/-': '23', 'SOG': '205', 'PPG': '9', 'SHG': '4', 'G': '32', 'A': '47', 'P': '79'}\n",
      "{'# Player': '30 E. Lindholm', 'Team': 'CAL', 'POS': 'C', 'GP': '81', '+/-': '30', 'SOG': '182', 'PPG': '9', 'SHG': '1', 'G': '27', 'A': '51', 'P': '78'}\n",
      "{'# Player': \"31 R. O'Reilly\", 'Team': 'STL', 'POS': 'C', 'GP': '82', '+/-': '22', 'SOG': '234', 'PPG': '6', 'SHG': '1', 'G': '28', 'A': '49', 'P': '77'}\n",
      "{'# Player': '32 M. Tkachuk', 'Team': 'CAL', 'POS': 'LW', 'GP': '80', '+/-': '14', 'SOG': '207', 'PPG': '11', 'SHG': '0', 'G': '34', 'A': '43', 'P': '77'}\n",
      "{'# Player': '33 T. Teravainen', 'Team': 'CAR', 'POS': 'LW', 'GP': '82', '+/-': '30', 'SOG': '167', 'PPG': '8', 'SHG': '1', 'G': '21', 'A': '55', 'P': '76'}\n",
      "{'# Player': '34 S. Couturier', 'Team': 'PHI', 'POS': 'C', 'GP': '80', '+/-': '2', 'SOG': '223', 'PPG': '8', 'SHG': '1', 'G': '33', 'A': '43', 'P': '76'}\n",
      "{'# Player': '35 A. Debrincat', 'Team': 'CHI', 'POS': 'LW', 'GP': '82', '+/-': '0', 'SOG': '220', 'PPG': '13', 'SHG': '0', 'G': '41', 'A': '35', 'P': '76'}\n",
      "{'# Player': '36 J. Guentzel', 'Team': 'PIT', 'POS': 'LW', 'GP': '82', '+/-': '13', 'SOG': '227', 'PPG': '6', 'SHG': '1', 'G': '40', 'A': '36', 'P': '76'}\n",
      "{'# Player': '37 G. Landeskog', 'Team': 'COL', 'POS': 'LW', 'GP': '73', '+/-': '17', 'SOG': '243', 'PPG': '10', 'SHG': '0', 'G': '34', 'A': '41', 'P': '75'}\n",
      "{'# Player': '38 N. Backstrom', 'Team': 'WAS', 'POS': 'C', 'GP': '80', '+/-': '2', 'SOG': '169', 'PPG': '7', 'SHG': '0', 'G': '22', 'A': '52', 'P': '74'}\n",
      "{'# Player': '39 T. Hertl', 'Team': 'SJ', 'POS': 'C', 'GP': '77', '+/-': '5', 'SOG': '176', 'PPG': '11', 'SHG': '1', 'G': '35', 'A': '39', 'P': '74'}\n",
      "{'# Player': '40 M. Zibanejad', 'Team': 'NYR', 'POS': 'C', 'GP': '82', '+/-': '-12', 'SOG': '236', 'PPG': '11', 'SHG': '2', 'G': '30', 'A': '44', 'P': '74'}\n",
      "{'# Player': '41 M. Giordano', 'Team': 'CAL', 'POS': 'D', 'GP': '78', '+/-': '39', 'SOG': '221', 'PPG': '3', 'SHG': '4', 'G': '17', 'A': '57', 'P': '74'}\n",
      "{'# Player': '42 D. Krejci', 'Team': 'BOS', 'POS': 'C', 'GP': '81', '+/-': '7', 'SOG': '139', 'PPG': '6', 'SHG': '0', 'G': '20', 'A': '53', 'P': '73'}\n",
      "{'# Player': '43 A. Matthews', 'Team': 'TOR', 'POS': 'C', 'GP': '68', '+/-': '-9', 'SOG': '251', 'PPG': '12', 'SHG': '0', 'G': '37', 'A': '36', 'P': '73'}\n",
      "{'# Player': '44 M. Stone', 'Team': 'VEG', 'POS': 'RW', 'GP': '77', '+/-': '17', 'SOG': '199', 'PPG': '6', 'SHG': '1', 'G': '33', 'A': '40', 'P': '73'}\n",
      "{'# Player': '45 D. Larkin', 'Team': 'DET', 'POS': 'C', 'GP': '76', '+/-': '-6', 'SOG': '287', 'PPG': '7', 'SHG': '2', 'G': '32', 'A': '41', 'P': '73'}\n",
      "{'# Player': '46 M. Stone', 'Team': 'VEG', 'POS': 'RW', 'GP': '77', '+/-': '17', 'SOG': '199', 'PPG': '6', 'SHG': '1', 'G': '33', 'A': '40', 'P': '73'}\n",
      "{'# Player': '47 A. Radulov', 'Team': 'DAL', 'POS': 'RW', 'GP': '70', '+/-': '22', 'SOG': '209', 'PPG': '7', 'SHG': '0', 'G': '29', 'A': '43', 'P': '72'}\n",
      "{'# Player': '48 M. Rielly', 'Team': 'TOR', 'POS': 'D', 'GP': '82', '+/-': '24', 'SOG': '223', 'PPG': '3', 'SHG': '0', 'G': '20', 'A': '52', 'P': '72'}\n",
      "{'# Player': '49 M. Domi', 'Team': 'MON', 'POS': 'LW', 'GP': '82', '+/-': '20', 'SOG': '203', 'PPG': '4', 'SHG': '0', 'G': '28', 'A': '44', 'P': '72'}\n",
      "{'# Player': '50 E. Kuznetsov', 'Team': 'WAS', 'POS': 'C', 'GP': '76', '+/-': '7', 'SOG': '193', 'PPG': '8', 'SHG': '0', 'G': '21', 'A': '51', 'P': '72'}\n"
     ]
    }
   ],
   "source": [
    "# list consisting of multiple table rows as key[headers], value[data] dictionaries\n",
    "#get_nhl_stats()\n",
    "\n",
    "for x in get_nhl_stats():\n",
    "    print(x)"
   ]
  },
  {
   "cell_type": "markdown",
   "metadata": {},
   "source": [
    "### ~~GET & CLEAN FULL TEAM NAMES:~~\n",
    "\n",
    "Just realized that this Wikipedia article includes abbreviations that don't match up to the abbreviations on Covers.com; Tried another approach below"
   ]
  },
  {
   "cell_type": "code",
   "execution_count": 29,
   "metadata": {},
   "outputs": [
    {
     "data": {
      "text/plain": [
       "{'ANA': 'Anaheim Ducks',\n",
       " 'ARI': 'Arizona Coyotes',\n",
       " 'BOS': 'Boston Bruins',\n",
       " 'BUF': 'Buffalo Sabres',\n",
       " 'CAR': 'Carolina Hurricanes',\n",
       " 'CBJ': 'Columbus Blue Jackets',\n",
       " 'CHI': 'Chicago Blackhawks',\n",
       " 'COL': 'Colorado Avalanche',\n",
       " 'DAL': 'Dallas Stars',\n",
       " 'DET': 'Detroit Red Wings',\n",
       " 'EDM': 'Edmonton Oilers',\n",
       " 'FLA': 'Florida Panthers',\n",
       " 'LAK': 'Los Angeles Kings',\n",
       " 'MIN': 'Minnesota Wild',\n",
       " 'MTL': 'Montreal Canadiens',\n",
       " 'NJD': 'New Jersey Devils',\n",
       " 'NSH': 'Nashville Predators',\n",
       " 'NYI': 'New York Islanders',\n",
       " 'NYR': 'New York Rangers',\n",
       " 'OTT': 'Ottawa Senators',\n",
       " 'PHI': 'Philadelphia Flyers',\n",
       " 'PIT': 'Pittsburgh Penguins',\n",
       " 'SEA': 'Seattle Kraken',\n",
       " 'SJS': 'San Jose Sharks',\n",
       " 'STL': 'St. Louis Blues',\n",
       " 'TBL': 'Tampa Bay Lightning',\n",
       " 'TOR': 'Toronto Maple Leafs',\n",
       " 'VAN': 'Vancouver Canucks',\n",
       " 'VGK': 'Vegas Golden Knights',\n",
       " 'WIN': 'Winnipeg Jets',\n",
       " 'WSH': 'Washington Capitals',\n",
       " 'CAL': 'Calgary Flames'}"
      ]
     },
     "execution_count": 29,
     "metadata": {},
     "output_type": "execute_result"
    }
   ],
   "source": [
    "def full_nhl_team_names():\n",
    "    ###### STANDARD SETUP FOR BEATUIFULSOUP ######\n",
    "    url = \"https://en.wikipedia.org/wiki/Template:NHL_team_abbreviations\"\n",
    "\n",
    "    # GET request; stores page HTML source in variable\n",
    "    source_code = requests.get(url) \n",
    "\n",
    "    # gets the front end text of the HTMl source code; ignoring back end stuff; essentally parses through HTML source\n",
    "    plain_text = source_code.text \n",
    "\n",
    "    # can sort through this variable\n",
    "    soup = BeautifulSoup(plain_text) \n",
    "\n",
    "\n",
    "\n",
    "    ###### SEPARATING ABBREVIATIONS & FULL TEAM NAMES USING REGEX ######\n",
    "    nhl_team_list = soup.find(\"div\", attrs={\"class\": \"div-col\"}).get_text()\n",
    "\n",
    "    nhl_abbrev_list = re.findall(r'([A-Z].*)\\s–', nhl_team_list) ## OUTPUT: ['AFM', 'ANA', 'ARI', 'ATL', 'BOS', 'BRK', 'BUF', 'CAR', 'CBJ', 'CGS', 'CGY', 'CHI', 'CLE', 'CLR', 'COL', 'DAL', 'DCG', 'DET', 'DFL', 'EDM', 'FLA', 'HAM', 'HFD', 'KCS', 'LAK', 'MIN', 'MMR', 'MNS', 'MTL', 'MWN', 'NJD', 'NSH', 'NYA', 'NYI', 'NYR', 'OAK', 'OTT', 'PHI', 'PHX', 'PIR', 'PIT', 'QBD', 'QUA', 'QUE', 'SEA', 'SEN', 'SLE', 'SJS', 'STL', 'TAN', 'TBL', 'TOR', 'TSP', 'VAN', 'VGK', 'WIN', 'WPG', 'WSH']\n",
    "    nhl_full_name_list = re.findall(r'[A-Z].*\\s–\\s([A-Z].*)', nhl_team_list) ## OUTPUT: ['Atlanta Flames', 'Mighty Ducks of Anaheim/Anaheim Ducks', 'Arizona Coyotes', 'Atlanta Thrashers', 'Boston Bruins', 'Brooklyn Americans', 'Buffalo Sabres', 'Carolina Hurricanes', 'Columbus Blue Jackets', 'Bay Area Seals/California Golden Seals', 'Calgary Flames', 'Chicago Black Hawks/Blackhawks', 'Cleveland Barons', 'Colorado Rockies', 'Colorado Avalanche', 'Dallas Stars', 'Detroit Cougars', 'Detroit Red Wings', 'Detroit Falcons', 'Edmonton Oilers', 'Florida Panthers', 'Hamilton Tigers', 'Hartford Whalers', 'Kansas City Scouts', 'Los Angeles Kings', 'Minnesota Wild', 'Montreal Maroons', 'Minnesota North Stars', 'Montreal Canadiens', 'Montreal Wanderers', 'New Jersey Devils', 'Nashville Predators', 'New York Americans', 'New York Islanders', 'New York Rangers', 'California/Oakland Seals', 'Ottawa Senators', 'Philadelphia Flyers', 'Phoenix Coyotes', 'Pittsburgh Pirates', 'Pittsburgh Penguins', 'Quebec Bulldogs', 'Philadelphia Quakers', 'Quebec Nordiques', 'Seattle Kraken', 'Ottawa Senators (original)', 'St. Louis Eagles', 'San Jose Sharks', 'St. Louis Blues', 'Toronto Hockey Club/Toronto Arenas', 'Tampa Bay Lightning', 'Toronto Maple Leafs', 'Toronto St. Patricks', 'Vancouver Canucks', 'Vegas Golden Knights', 'Winnipeg Jets (original)', 'Winnipeg Jets', 'Washington Capitals']\n",
    "\n",
    "\n",
    "    ###### COMBINING ABBREVIATIONS & FULL TEAM NAMES INTO A DICTIONARY ######\n",
    "    nhl_teams = {}\n",
    "\n",
    "    for index in range(len(nhl_abbrev_list)):\n",
    "        nhl_teams[nhl_abbrev_list[index]] = nhl_full_name_list[index]\n",
    "\n",
    "    \n",
    "\n",
    "    ###### CLEANING UP DICTIONARY ITEMS & REMOVING INACTIVE/DUPLICATE NHL TEAMS ######\n",
    "    del nhl_teams['AFM']\n",
    "    del nhl_teams['ATL']\n",
    "    del nhl_teams['BRK']\n",
    "    del nhl_teams['CGS']\n",
    "    del nhl_teams['CLE']\n",
    "    del nhl_teams['CLR']\n",
    "    del nhl_teams['DCG']\n",
    "    del nhl_teams['DFL']\n",
    "    del nhl_teams['HAM']\n",
    "    del nhl_teams['HFD']\n",
    "    del nhl_teams['KCS']\n",
    "    del nhl_teams['MMR']\n",
    "    del nhl_teams['MNS']\n",
    "    del nhl_teams['MWN']\n",
    "    del nhl_teams['NYA']\n",
    "    del nhl_teams['OAK']\n",
    "    del nhl_teams['PIR']\n",
    "    del nhl_teams['QBD']\n",
    "    del nhl_teams['QUA']\n",
    "    del nhl_teams['QUE']\n",
    "    del nhl_teams['SLE']\n",
    "    del nhl_teams['TAN']\n",
    "    del nhl_teams['TSP']\n",
    "    del nhl_teams['SEN']\n",
    "    del nhl_teams['WPG']\n",
    "    del nhl_teams['PHX']\n",
    "    del nhl_teams['CGY']\n",
    "\n",
    "    nhl_teams['ANA'] = 'Anaheim Ducks'\n",
    "    nhl_teams['CHI'] = 'Chicago Blackhawks'\n",
    "    nhl_teams['WIN'] = 'Winnipeg Jets'\n",
    "    nhl_teams['CAL'] = 'Calgary Flames'\n",
    "\n",
    "    return nhl_teams\n",
    "\n",
    "\n",
    "\n",
    "full_nhl_team_names()"
   ]
  },
  {
   "cell_type": "markdown",
   "metadata": {},
   "source": [
    "### GET, CLEAN, & MAP FULL TEAM NAMES (VERSION 2):"
   ]
  },
  {
   "cell_type": "code",
   "execution_count": 30,
   "metadata": {},
   "outputs": [
    {
     "data": {
      "text/plain": [
       "{'TB': 'Tampa Bay Lightning',\n",
       " 'EDM': 'Edmonton Oilers',\n",
       " 'CHI': 'Chicago Blackhawks',\n",
       " 'BOS': 'Boston Bruins',\n",
       " 'PIT': 'Pittsburgh Penguins',\n",
       " 'COL': 'Colorado Avalanche',\n",
       " 'CAL': 'Calgary Flames',\n",
       " 'FLA': 'Florida Panthers',\n",
       " 'TOR': 'Toronto Maple Leafs',\n",
       " 'WIN': 'Winnipeg Jets',\n",
       " 'WAS': 'Washington Capitals',\n",
       " 'CLB': 'Columbus Blue Jackets',\n",
       " 'PHI': 'Philadelphia Flyers',\n",
       " 'CAR': 'Carolina Hurricanes',\n",
       " 'SJ': 'San Jose Sharks',\n",
       " 'BUF': 'Buffalo Sabres',\n",
       " 'DAL': 'Dallas Stars',\n",
       " 'STL': 'St. Louis Blues',\n",
       " 'NYR': 'New York Rangers',\n",
       " 'VEG': 'Vegas Golden Knights',\n",
       " 'DET': 'Detroit Red Wings',\n",
       " 'MON': 'Montreal Canadiens'}"
      ]
     },
     "execution_count": 30,
     "metadata": {},
     "output_type": "execute_result"
    }
   ],
   "source": [
    "def full_nhl_team_names_correct():\n",
    "\n",
    "    nhl_teams = {} # going to be used to store the team abbreviation on the stats page and the href for that abbreviation\n",
    "\n",
    "\n",
    "    for row in table_rows:\n",
    "        # targeting the 2nd <td> element (where the team abbreviation and href are)\n",
    "        team_initials = row.td.findNextSibling().get_text()\n",
    "\n",
    "        # within the 2nd <td> element, find the <a> and retrieve the href\n",
    "        team_href = row.td.findNextSibling().find(\"a\").get(\"href\")\n",
    "        \n",
    "        nhl_teams[team_initials] = team_href\n",
    "        #print(row.td.findNextSibling())\n",
    "    \n",
    "\n",
    "    for team_abbrev, link in nhl_teams.items():\n",
    "        # gets rid of the rest of the link and only retrieves the end where the name is\n",
    "        regex = re.findall(r'.+/(.+$)', link)[0]\n",
    "\n",
    "        # replace dashes (-) with whitespace, then capitalize the first letter of each word\n",
    "        regex = regex.replace('-', ' ').title()\n",
    "\n",
    "        nhl_teams[team_abbrev] = regex\n",
    "\n",
    "\n",
    "    return nhl_teams\n",
    "\n",
    "full_nhl_team_names_correct()"
   ]
  },
  {
   "cell_type": "code",
   "execution_count": 31,
   "metadata": {},
   "outputs": [
    {
     "name": "stdout",
     "output_type": "stream",
     "text": [
      "edmonton-oilers\n"
     ]
    }
   ],
   "source": [
    "### REGEX PRACTICE\n",
    "\n",
    "example = '/sport/hockey/nhl/teams/main/edmonton-oilers'\n",
    "\n",
    "# $: matches end of string\n",
    "# .: matches any character\n",
    "# +: repeats matching one or more times\n",
    "# this will look at the end of the string and then stop right after the last forward slash\n",
    "\n",
    "print(re.findall(r'.+/(.+$)', example)[0])"
   ]
  },
  {
   "cell_type": "markdown",
   "metadata": {},
   "source": [
    "### ASSIGN ABOVE PLAYER STATS TO A VARIABLE:"
   ]
  },
  {
   "cell_type": "code",
   "execution_count": 32,
   "metadata": {},
   "outputs": [],
   "source": [
    "data = get_nhl_stats()"
   ]
  },
  {
   "cell_type": "markdown",
   "metadata": {},
   "source": [
    "### GET TEAM NAME ABBREVIATIONS\n",
    "\n",
    "Not really necessary but keeping just in case"
   ]
  },
  {
   "cell_type": "code",
   "execution_count": 33,
   "metadata": {},
   "outputs": [],
   "source": [
    "def get_nhl_team_abbreviation():\n",
    "    uniqueTeams = set() \n",
    "\n",
    "    for player_row in data:\n",
    "        teamInitials = uniqueTeams.add(player_row['Team'])\n",
    "\n",
    "    return uniqueTeams"
   ]
  },
  {
   "cell_type": "markdown",
   "metadata": {},
   "source": [
    "### __DISPLAY DATA__ -- REGEX TO FIND TOP SCORING PLAYERS FOR USER-INPUTTED TEAM:\n",
    "\n",
    "Points for each player is in the last column of the table ('P' column)"
   ]
  },
  {
   "cell_type": "code",
   "execution_count": 34,
   "metadata": {},
   "outputs": [],
   "source": [
    "def top_player_stats_regex():\n",
    "    player_points_tuples_list = []\n",
    "\n",
    "    \n",
    "    mappedTeamNames = full_nhl_team_names_correct()\n",
    "    team_abbreviations_string = \"\"\n",
    "\n",
    "    # Iterate over keys and append to team_abbreviations_string variable\n",
    "    for abbrev, fullname in mappedTeamNames.items():\n",
    "        team_abbreviations_string = team_abbreviations_string + abbrev + \", \"\n",
    "\n",
    "    # Get rid of the extra comma at the end\n",
    "    team_abbreviations_string = team_abbreviations_string[:-2]\n",
    "\n",
    "\n",
    "    teamNameInput = input(\"Enter the NHL team abbreviation, choose from the following: (\"+team_abbreviations_string+\")\")\n",
    "\n",
    "    \n",
    "\n",
    "    # Iterates over each dictionary that specifies the stats for one player\n",
    "    for player_row in data:\n",
    "        if player_row['Team'] == teamNameInput and player_row != None:\n",
    "\n",
    "            player_name_orig = str(player_row['# Player'])\n",
    "            player_name_txt_only = (re.findall(r'([A-Z].+)', player_name_orig))[0]\n",
    "            \n",
    "            # getting & sorting player points using tuples\n",
    "            points_scored = int(player_row['P'])\n",
    "            \n",
    "            player_points_tuples_list.append((points_scored, player_name_txt_only)) # reversed tuple (value, key) pair for sorting\n",
    "            player_points_tuples_list = sorted(player_points_tuples_list, reverse=True) # points sorted in descending order\n",
    "\n",
    "\n",
    "    \n",
    "\n",
    "    # If above loop was not able to find any players based on user input (e.g. team not listed on Covers.com stats page)\n",
    "    if len(player_points_tuples_list) == 0:\n",
    "        print(teamNameInput + \" didn't make the cut for the \" + season + \" season and is not listed on stats page, try another team \\n\")\n",
    "        top_player_stats_regex()\n",
    "        \n",
    "    # If above loop was able to find players, go ahead and find the top 3 players\n",
    "    else:\n",
    "        print(\"Top 3 scoring leaders for the\", season, mappedTeamNames[teamNameInput], \"\\n\")        \n",
    "        for v, k in player_points_tuples_list[:3]:\n",
    "            print(k, \"---\", v, \"goals scored this season\")\n"
   ]
  },
  {
   "cell_type": "markdown",
   "metadata": {},
   "source": [
    "## Top 3 Scoring Leaders for the 2021-2022 Colorado Avalanche:"
   ]
  },
  {
   "cell_type": "code",
   "execution_count": 18,
   "metadata": {},
   "outputs": [
    {
     "name": "stdout",
     "output_type": "stream",
     "text": [
      "Top 3 scoring leaders for the 2021-2022 Colorado Avalanche \n",
      "\n",
      "M. Rantanen --- 92 goals scored this season\n",
      "N. MacKinnon --- 88 goals scored this season\n",
      "N. Kadri --- 87 goals scored this season\n"
     ]
    }
   ],
   "source": [
    "# COL\n",
    "top_player_stats_regex()"
   ]
  },
  {
   "cell_type": "markdown",
   "metadata": {},
   "source": [
    "## Top 3 Scoring Leaders for the 2018-2019 Colorado Avalanche:"
   ]
  },
  {
   "cell_type": "code",
   "execution_count": 35,
   "metadata": {},
   "outputs": [
    {
     "name": "stdout",
     "output_type": "stream",
     "text": [
      "Top 3 scoring leaders for the 2018-2019 Colorado Avalanche \n",
      "\n",
      "N. MacKinnon --- 99 goals scored this season\n",
      "M. Rantanen --- 87 goals scored this season\n",
      "G. Landeskog --- 75 goals scored this season\n"
     ]
    }
   ],
   "source": [
    "# COL\n",
    "top_player_stats_regex()"
   ]
  },
  {
   "cell_type": "markdown",
   "metadata": {},
   "source": [
    "## Top 3 Scoring Leaders for the 2021-2022 New York Rangers:"
   ]
  },
  {
   "cell_type": "code",
   "execution_count": 20,
   "metadata": {},
   "outputs": [
    {
     "name": "stdout",
     "output_type": "stream",
     "text": [
      "Top 3 scoring leaders for the 2021-2022 New York Rangers \n",
      "\n",
      "M. Zibanejad --- 81 goals scored this season\n",
      "C. Kreider --- 77 goals scored this season\n",
      "A. Fox --- 74 goals scored this season\n"
     ]
    }
   ],
   "source": [
    "# NYR\n",
    "top_player_stats_regex()"
   ]
  },
  {
   "cell_type": "markdown",
   "metadata": {},
   "source": [
    "## Top 3 Scoring Leaders for the 2021-2022 Dallas Stars:"
   ]
  },
  {
   "cell_type": "code",
   "execution_count": 21,
   "metadata": {},
   "outputs": [
    {
     "name": "stdout",
     "output_type": "stream",
     "text": [
      "Top 3 scoring leaders for the 2021-2022 Dallas Stars \n",
      "\n",
      "J. Pavelski --- 81 goals scored this season\n",
      "J. Robertson --- 79 goals scored this season\n",
      "R. Hintz --- 72 goals scored this season\n"
     ]
    }
   ],
   "source": [
    "# DAL\n",
    "top_player_stats_regex()"
   ]
  },
  {
   "cell_type": "markdown",
   "metadata": {},
   "source": [
    "## Top 3 Scoring Leaders for the 2021-2022 Los Angeles Kings: \n",
    "*Per usual for LA, not listed on top stats page for 2021-2022*"
   ]
  },
  {
   "cell_type": "code",
   "execution_count": 22,
   "metadata": {},
   "outputs": [
    {
     "name": "stdout",
     "output_type": "stream",
     "text": [
      "LA didn't make the cut for the 2021-2022 season and is not listed on stats page, try another team \n",
      "\n",
      "Top 3 scoring leaders for the 2021-2022 Carolina Hurricanes \n",
      "\n",
      "S. Aho --- 81 goals scored this season\n"
     ]
    }
   ],
   "source": [
    "# LA\n",
    "top_player_stats_regex()"
   ]
  },
  {
   "cell_type": "markdown",
   "metadata": {},
   "source": [
    "<hr>\n",
    "<hr>"
   ]
  },
  {
   "cell_type": "code",
   "execution_count": 23,
   "metadata": {},
   "outputs": [
    {
     "name": "stdout",
     "output_type": "stream",
     "text": [
      "['C. Makar']\n",
      "C. Makar\n"
     ]
    }
   ],
   "source": [
    "# REGEX TEST EXAMPLE: Separating/removing number before player name\n",
    "\n",
    "temp = \"3 C. Makar\"\n",
    "\n",
    "temp_str = (re.findall(r'([A-Z].+)', temp))\n",
    "\n",
    "print(temp_str)\n",
    "\n",
    "print(temp_str[0])"
   ]
  },
  {
   "cell_type": "markdown",
   "metadata": {},
   "source": [
    "[Helpful Documentation](https://www.pluralsight.com/guides/extracting-data-html-beautifulsoup)"
   ]
  }
 ],
 "metadata": {
  "kernelspec": {
   "display_name": "Python 3.9.10 ('base')",
   "language": "python",
   "name": "python3"
  },
  "language_info": {
   "codemirror_mode": {
    "name": "ipython",
    "version": 3
   },
   "file_extension": ".py",
   "mimetype": "text/x-python",
   "name": "python",
   "nbconvert_exporter": "python",
   "pygments_lexer": "ipython3",
   "version": "3.9.10"
  },
  "orig_nbformat": 4,
  "vscode": {
   "interpreter": {
    "hash": "3b806cc711b465e66e8252dff191d8681f8b41038e9cbc25fa942edafd26a2d7"
   }
  }
 },
 "nbformat": 4,
 "nbformat_minor": 2
}
